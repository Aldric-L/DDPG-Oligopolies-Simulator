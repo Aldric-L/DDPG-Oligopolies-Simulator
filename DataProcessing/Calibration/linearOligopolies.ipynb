{
 "cells": [
  {
   "cell_type": "code",
   "execution_count": null,
   "metadata": {},
   "outputs": [],
   "source": [
    "d = 2.2\n",
    "c = 1/5\n",
    "k = 0.98\n",
    "b = 0\n",
    "pricefactor = 0.45"
   ]
  }
 ],
 "metadata": {
  "language_info": {
   "name": "python"
  }
 },
 "nbformat": 4,
 "nbformat_minor": 2
}
