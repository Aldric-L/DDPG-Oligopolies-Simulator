{
 "cells": [
  {
   "cell_type": "code",
   "execution_count": 106,
   "metadata": {},
   "outputs": [
    {
     "name": "stdout",
     "output_type": "stream",
     "text": [
      "Cournot | Competition | Follower | Leader | BothLeader | Cartel\n",
      "Quantities:\n",
      "0.6470588235294118 0.9166666666666667 0.5679347826086958 0.8369565217391304 0.8369565217391304 0.5\n",
      "Profits:\n",
      "0.49237370242214545 0.16469444444444442 0.37931870274102086 0.5148647211720228 0.2942084120982989 0.539\n"
     ]
    }
   ],
   "source": [
    "d = 2.2\n",
    "c = 1/5\n",
    "k = 0.98\n",
    "b = 0\n",
    "\n",
    "pricefactor = 0.45\n",
    "\n",
    "qCournot = (d*(1+2*c))/(4*c**2+8*c+3)\n",
    "qComp = d / (2 * (1+c))\n",
    "qLeader = d * (1+2*c) / (2 * (1 + 4*c + c**2))\n",
    "qFollower = (d - qLeader) / (2 * (1+c))\n",
    "qCartel = d / (4 + 2*c)\n",
    "\n",
    "print(\"Cournot | Competition | Follower | Leader | BothLeader | Cartel\")\n",
    "print(\"Quantities:\")\n",
    "print(qCournot, qComp, qFollower, qLeader, qLeader, qCartel)\n",
    "\n",
    "def profit(qSelf, qOther):\n",
    "    return k * ( (d - qSelf - qOther)*qSelf - c * qSelf**2) + b\n",
    "\n",
    "print(\"Profits:\")\n",
    "print(profit(qCournot, qCournot), profit(qComp, qComp), profit(qFollower, qLeader), profit(qLeader, qFollower), profit(qLeader, qLeader), profit(qCartel, qCartel))\n"
   ]
  },
  {
   "cell_type": "code",
   "execution_count": 107,
   "metadata": {},
   "outputs": [
    {
     "name": "stdout",
     "output_type": "stream",
     "text": [
      "Prices:\n",
      "0.9058823529411767 0.3666666666666667 0.795108695652174 0.795108695652174 0.5260869565217394 1.2000000000000002\n"
     ]
    }
   ],
   "source": [
    "def price(q1, q2):\n",
    "    return d - q1 - q2\n",
    "\n",
    "\n",
    "print(\"Prices:\")\n",
    "print(price(qCournot, qCournot), price(qComp, qComp), price(qFollower, qLeader), price(qLeader, qFollower), price(qLeader, qLeader), price(qCartel, qCartel))"
   ]
  },
  {
   "cell_type": "code",
   "execution_count": 108,
   "metadata": {},
   "outputs": [
    {
     "name": "stdout",
     "output_type": "stream",
     "text": [
      "Max Profit :  [0.916, 0.001] 0.9872684640000003\n",
      "Min Profit:  [0.001, 0.999] 0.0011758040000000001\n"
     ]
    }
   ],
   "source": [
    "values = {}\n",
    "for i in range(1, 1000):\n",
    "    for j in range(1, 1000):\n",
    "        values[(i, j)] = profit(i/1000, j/1000)\n",
    "\n",
    "maxelem = max(values, key = lambda k: values[k])\n",
    "minelem = min(values, key = lambda k: values[k])\n",
    "\n",
    "print (\"Max Profit : \", [x/1000 for x in maxelem], values[maxelem])\n",
    "print (\"Min Profit: \", [x/1000 for x in minelem], values[minelem])"
   ]
  },
  {
   "cell_type": "code",
   "execution_count": 109,
   "metadata": {},
   "outputs": [
    {
     "name": "stdout",
     "output_type": "stream",
     "text": [
      "Max Price:  [0.001, 0.001] Raw:  2.1980000000000004 Discounted:  0.9891000000000002\n",
      "Min Price:  [0.999, 0.999] Raw:  0.20200000000000007 Discounted:  0.09090000000000004\n"
     ]
    }
   ],
   "source": [
    "prices = {}\n",
    "for i in range(1, 1000):\n",
    "    for j in range(1, 1000):\n",
    "        prices[(i, j)] = price(i/1000, j/1000)\n",
    "\n",
    "maxpelem = max(prices, key = lambda k: prices[k])\n",
    "minpelem = min(prices, key = lambda k: prices[k])\n",
    "\n",
    "print (\"Max Price: \", [x/1000 for x in maxpelem], \"Raw: \", prices[maxpelem], \"Discounted: \", prices[maxpelem] * pricefactor)\n",
    "print (\"Min Price: \", [x/1000 for x in minpelem], \"Raw: \", prices[minpelem], \"Discounted: \", prices[minpelem] * pricefactor)"
   ]
  }
 ],
 "metadata": {
  "kernelspec": {
   "display_name": "Python 3",
   "language": "python",
   "name": "python3"
  },
  "language_info": {
   "codemirror_mode": {
    "name": "ipython",
    "version": 3
   },
   "file_extension": ".py",
   "mimetype": "text/x-python",
   "name": "python",
   "nbconvert_exporter": "python",
   "pygments_lexer": "ipython3",
   "version": "3.11.4"
  }
 },
 "nbformat": 4,
 "nbformat_minor": 2
}
