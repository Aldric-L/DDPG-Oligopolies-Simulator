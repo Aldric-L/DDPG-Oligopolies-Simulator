{
 "cells": [
  {
   "cell_type": "code",
   "execution_count": 41,
   "metadata": {},
   "outputs": [],
   "source": [
    "path = '../Debug/'\n",
    "exec_name = \"DDPG-Oligopolies-Simulator\"\n",
    "mode = \"TEMPORAL\" # Arg 1 : STACKELBERG | COURNOT | TEMPORAL\n",
    "agents_nb = 2 # Arg 2 : agents number\n",
    "max_iterations = 10000 # Arg 3 : maxIteration\n",
    "\n",
    "nb_turns = 2\n",
    "max_cores = (int)(max(8 / agents_nb, 1))"
   ]
  },
  {
   "cell_type": "code",
   "execution_count": 42,
   "metadata": {},
   "outputs": [
    {
     "name": "stdout",
     "output_type": "stream",
     "text": [
      "['../Debug/DDPG-Oligopolies-Simulator', 'TEMPORAL', '2', '10000']\n",
      "Tournament:  0  simul:  0  status: launched\n",
      "Tournament:  0  simul:  1  status: launched\n",
      "Tournament:  0  simul:  2  status: launched\n",
      "Tournament:  0  simul:  3  status: launched\n",
      "Tournament:  0  simul:  0  status: terminated (code  -9 )\n",
      "Tournament:  0  simul:  1  status: terminated (code  -9 )\n",
      "Tournament:  0  simul:  2  status: terminated (code  -9 )\n",
      "Tournament:  0  simul:  3  status: terminated (code  -9 )\n",
      "Tournament:  1  simul:  0  status: launched\n",
      "Tournament:  1  simul:  1  status: launched\n",
      "Tournament:  1  simul:  2  status: launched\n",
      "Tournament:  1  simul:  3  status: launched\n",
      "Tournament:  1  simul:  0  status: terminated (code  -9 )\n",
      "Tournament:  1  simul:  1  status: terminated (code  -9 )\n",
      "Tournament:  1  simul:  2  status: terminated (code  -9 )\n",
      "Tournament:  1  simul:  3  status: terminated (code  -9 )\n"
     ]
    }
   ],
   "source": [
    "import subprocess\n",
    "cmd = [path + exec_name, mode, str(agents_nb), str(max_iterations)]\n",
    "print(cmd)\n",
    "\n",
    "process_pool = []\n",
    "\n",
    "# Run the command\n",
    "for turnament in range(0, nb_turns):\n",
    "    for parallel_simul in range(0, max_cores):\n",
    "        print(\"Tournament: \", turnament+1, \" simul: \", parallel_simul+1, \" status: launched\")\n",
    "        process_pool.append(subprocess.Popen(cmd, stdout=subprocess.PIPE))\n",
    "\n",
    "    for parallel_simul in range(0,len(process_pool)):\n",
    "        process = process_pool[parallel_simul]\n",
    "        #for line in process.stdout:\n",
    "            #print(line)\n",
    "        process.wait()\n",
    "        print(\"Tournament: \", turnament+1, \" simul: \", parallel_simul+1, \" status: terminated (code \", process.returncode, \")\")\n",
    "    process_pool.clear()"
   ]
  }
 ],
 "metadata": {
  "kernelspec": {
   "display_name": "Python 3",
   "language": "python",
   "name": "python3"
  },
  "language_info": {
   "codemirror_mode": {
    "name": "ipython",
    "version": 3
   },
   "file_extension": ".py",
   "mimetype": "text/x-python",
   "name": "python",
   "nbconvert_exporter": "python",
   "pygments_lexer": "ipython3",
   "version": "3.11.4"
  }
 },
 "nbformat": 4,
 "nbformat_minor": 2
}
